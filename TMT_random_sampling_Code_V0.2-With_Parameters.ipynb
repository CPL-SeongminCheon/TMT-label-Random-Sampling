{
 "cells": [
  {
   "cell_type": "markdown",
   "id": "0840b880",
   "metadata": {},
   "source": [
    "# TMT random groupping parsing code Ver.0.2 Beta\n",
    "Code update 2021.12.13"
   ]
  },
  {
   "cell_type": "markdown",
   "id": "1c0b5646",
   "metadata": {},
   "source": [
    "## -- input parameters -- "
   ]
  },
  {
   "cell_type": "code",
   "execution_count": 35,
   "id": "5a4a866b",
   "metadata": {},
   "outputs": [
    {
     "name": "stdout",
     "output_type": "stream",
     "text": [
      "\n",
      "MetaData 파일 경로와 이름을 입력해 주세요:  \n",
      "예제파일 이름:  Meta_data_TMTlabel.txt \n",
      "\n",
      " Meta_data_TMTlabel.txt\n"
     ]
    }
   ],
   "source": [
    "MetaData = input(\"\\nMetaData 파일 경로와 이름을 입력해 주세요:  \\n예제파일 이름:  Meta_data_TMTlabel.txt \\n\\n \").strip(\" \")\n"
   ]
  },
  {
   "cell_type": "code",
   "execution_count": 30,
   "id": "9973ff9a",
   "metadata": {},
   "outputs": [
    {
     "name": "stdout",
     "output_type": "stream",
     "text": [
      "\n",
      "TMT labeling개수를 입력해 주세요, ex) 6 or 10 or 11:   11\n"
     ]
    }
   ],
   "source": [
    "NumberOfMultiplex = int(input(\"\\nTMT labeling개수를 입력해 주세요, ex) 6 or 10 or 11:   \"))"
   ]
  },
  {
   "cell_type": "code",
   "execution_count": 32,
   "id": "b690d080",
   "metadata": {},
   "outputs": [
    {
     "name": "stdout",
     "output_type": "stream",
     "text": [
      "\n",
      "총 그룹의 개수는 몇개인가요? 숫자를 입력해주세요:   5\n"
     ]
    }
   ],
   "source": [
    "NumberOfGroup = int(input(\"\\n총 그룹의 개수는 몇개인가요? 숫자를 입력해주세요:   \" ))"
   ]
  },
  {
   "cell_type": "code",
   "execution_count": 33,
   "id": "dc6eaf01",
   "metadata": {},
   "outputs": [
    {
     "name": "stdout",
     "output_type": "stream",
     "text": [
      "\n",
      "Pooling sample을 사용하시나요? \n",
      "y 를 선택하면 pooling 샘플을 제외한 상태로 그룹핑이 됩니다. \n",
      "n를 선택하면 multiplex 개수를 꽉 채워서 그룹핑이 됩니다 \n",
      "\n",
      "만약 MetaData에 pooling 샘플 정보가 포함된 경우라면 n 를 선택해 주세요 \n",
      "\n",
      "Select y or n :y\n"
     ]
    }
   ],
   "source": [
    "pooling = input(\"\\nPooling sample을 사용하시나요? \\ny 를 선택하면 pooling 샘플을 제외한 상태로 그룹핑이 됩니다. \\nn를 선택하면 multiplex 개수를 꽉 채워서 그룹핑이 됩니다 \\n\\n만약 MetaData에 pooling 샘플 정보가 포함된 경우라면 n 를 선택해 주세요 \\n\\nSelect y or n :\"  ).lower()"
   ]
  },
  {
   "cell_type": "markdown",
   "id": "065c3495",
   "metadata": {},
   "source": [
    "# --- Code running --- "
   ]
  },
  {
   "cell_type": "code",
   "execution_count": 39,
   "id": "54fd77eb",
   "metadata": {},
   "outputs": [
    {
     "name": "stdout",
     "output_type": "stream",
     "text": [
      "TMT group 1\n",
      "Group\tGroup_No\tTube_label\tconc.\n",
      "MT\tMT_2\tMT3\t0.248492534\n",
      "RM\tRM_4\tRM9\t0.339331345\n",
      "PT\tPT_4\tPT5\t0.270504699\n",
      "PM\tPM_2\tPM4\t0.264147395\n",
      "NL\tNL_5\tNL7\t0.29861811\n",
      "MT\tMT_14\tMT20\t0.314617326\n",
      "MT\tMT_1\tMT2_2nd\t0.224511371\n",
      "PT\tPT_8\tPT11\t0.253454763\n",
      "PM\tPM_13\tPM17\t0.26855336\n",
      "MT\tMT_3\tMT4\t0.238497439\n",
      "QC\tpooling\tpool_1\n",
      "\n",
      "\n",
      "TMT group 2\n",
      "Group\tGroup_No\tTube_label\tconc.\n",
      "MT\tMT_9\tMT11\t0.305302109\n",
      "RM\tRM_2\tRM4\t0.302609085\n",
      "PT\tPT_10\tPT17\t0.285912332\n",
      "PM\tPM_12\tPM16\t0.252536486\n",
      "NL\tNL_1\tNL2\t0.267679231\n",
      "PM\tPM_5\tPM7\t0.282345178\n",
      "PT\tPT_2\tPT3\t0.264332817\n",
      "PT\tPT_9\tPT12\t0.256695222\n",
      "PM\tPM_3\tPM5\t0.238038301\n",
      "MT\tMT_11\tMT17\t0.270619484\n",
      "QC\tpooling\tpool_2\n",
      "\n",
      "\n",
      "TMT group 3\n",
      "Group\tGroup_No\tTube_label\tconc.\n",
      "MT\tMT_6\tMT10\t0.323853076\n",
      "RM\tRM_3\tRM8\t0.336311626\n",
      "PT\tPT_1\tPT1\t0.296463691\n",
      "PM\tPM_1\tPM3\t0.243689238\n",
      "NL\tNL_4\tNL6\t0.297805788\n",
      "PM\tPM_10\tPM13\t0.284102266\n",
      "PT\tPT_7\tPT10_2nd\t0.197483999\n",
      "PM\tPM_11\tPM14\t0.272314765\n",
      "MT\tMT_13\tMT19_2nd\t0.248995821\n",
      "MT\tMT_12\tMT18\t0.302776847\n",
      "QC\tpooling\tpool_3\n",
      "\n",
      "\n",
      "TMT group 4\n",
      "Group\tGroup_No\tTube_label\tconc.\n",
      "MT\tMT_15\tMT21\t0.259812067\n",
      "RM\tRM_1\tRM2\t0.272756244\n",
      "PT\tPT_11\tPT18\t0.258902619\n",
      "PM\tPM_7\tPM9\t0.269904287\n",
      "NL\tNL_2\tNL3\t0.290574355\n",
      "PT\tPT_5\tPT6\t0.275802453\n",
      "MT\tMT_4\tMT7\t0.248863377\n",
      "PM\tPM_4\tPM6\t0.274089512\n",
      "MT\tMT_10\tMT16\t0.251609379\n",
      "MT\tMT_5\tMT9\t0.276226273\n",
      "QC\tpooling\tpool_4\n",
      "\n",
      "\n",
      "TMT group 5\n",
      "Group\tGroup_No\tTube_label\tconc.\n",
      "MT\tMT_8\tMT14\t0.271634887\n",
      "PT\tPT_3\tPT4\t0.28938236\n",
      "PM\tPM_9\tPM12\t0.294035554\n",
      "NL\tNL_3\tNL5\t0.281047228\n",
      "PM\tPM_6\tPM8\t0.27328602\n",
      "MT\tMT_7\tMT12\t0.333556794\n",
      "PT\tPT_6\tPT7\t0.249984735\n",
      "PM\tPM_8\tPM10\t0.273356657\n",
      "QC\tpooling\tpool_5\n",
      "QC\tpooling\tpool_6\n",
      "QC\tpooling\tpool_7\n",
      "\n",
      "\n"
     ]
    }
   ],
   "source": [
    "import random,sys\n",
    "Meta = open(MetaData,\"r\").read().splitlines()   # Data input 하여 한줄당 하나씩 리스트로 반환\n",
    "\n",
    "plex = NumberOfMultiplex   #pooling 샘플 y면 그룹당 1개씩 풀링 샘플이 들어갈거니깐 plex 개수에서 한자리 비워두기\n",
    "if pooling == \"y\":\n",
    "    plex = plex - 1\n",
    "\n",
    "def get_groups():         #컬럼 1번 정보를 빼와서 groups에 넣고, 중복 제거하여 group에 집어넣어  conditions 개수 확인\n",
    "    groups=[]\n",
    "    for line in Meta[1:len(Meta)]:\n",
    "        groups.append(line.split()[0]) \n",
    "    group = list(set(groups))\n",
    "    \n",
    "    return([group,groups])\n",
    "group = get_groups()[0]\n",
    "groups = get_groups()[1]\n",
    "#중복 제거한 그룹 목록 = 0번 (set(column1)), 중복 포함된 그룹 목록 = 1번 (list(column1))\n",
    "\n",
    "def get_dict():             #Column2번을 Key로, Column 1번을 Value로 하는 딕셔너리 구현\n",
    "    gorup_dic = {}\n",
    "    for line in Meta[1:len(Meta)]:\n",
    "        gorup_dic[str(line.split()[1])] = str(line.split()[0])\n",
    "    return gorup_dic\n",
    "dic = get_dict()\n",
    "# sample label : group label  로 정리된  딕셔너리 구현\n",
    "\n",
    "def get_Meta():       #Columne 2번을 키로, 해당 샘플의 모든 정보를 value로 하는 딕셔너리 구현 - 최종 출력에 활용\n",
    "    dic = {}\n",
    "    for line in Meta[1:len(Meta)]:\n",
    "        dic[str(line.split()[1])] = line\n",
    "    return dic\n",
    "dic_Meta = get_Meta() #sample label : line 으로 정리된 딕셔너리 구현\n",
    "\n",
    "samplelist_by_groups = []   # 각 그룹별로 리스트 되어있고, 순서가 random으로 섞인 이중 array 구현.\n",
    "for i in range(0, len(group)):\n",
    "    sample_set = []\n",
    "    for key, value in dic.items():\n",
    "        if value == group[i]:\n",
    "            sample_set.append(key)\n",
    "    samplelist_by_groups.append(sample_set)\n",
    "for i in range(0, len(samplelist_by_groups)):\n",
    "    a = random.shuffle(samplelist_by_groups[i])\n",
    "\n",
    "#TMT group 개수에 따라 각각 하나씩 집어넣은 목록 정리.  한 샘플이 한쪽에 쏠리지 않도록 구현\n",
    "num_of_TMT_set = NumberOfGroup   # input option\n",
    "random_samples = []\n",
    "for i in range(0, num_of_TMT_set): \n",
    "    sample_set = []\n",
    "    for i in range(0, len(group)):\n",
    "        try:\n",
    "            sample_set.append(samplelist_by_groups[i].pop())\n",
    "        except:\n",
    "            pass\n",
    "    random_samples.append(sample_set)\n",
    "\n",
    "# 남은것들 한개의 리스트로 묶어주고,  랜덤으로 셔플링 하기\n",
    "other_samples = sum(samplelist_by_groups,[])\n",
    "\n",
    "for i in range(0,1000):\n",
    "    random.shuffle(other_samples)   # 1000 time shuffling\n",
    "\n",
    "for i in range(0, len(random_samples)):\n",
    "    while True:\n",
    "        try:\n",
    "            if plex > len(random_samples[i]):\n",
    "                random_samples[i].append(other_samples.pop())\n",
    "            else:\n",
    "                break\n",
    "        except: break\n",
    "                        \n",
    "if len(other_samples) != 0:\n",
    "    sys.exit(\"포함되지 않는 샘플이 \" + str(len(other_samples)) +\"개 있습니다. 총 샘플 개수와 TMT-Xplex, 그룹 개수를 다시 확인해 주세요 \")\n",
    "            \n",
    "# 남은것들 multiplexing 개수만큼 섞어서 각 그룹별로 넣어주기. 이중 array에서 작업\n",
    "\n",
    "#--- pooling y or n 에 따라 결과 값에 pooling 샘플 추가 ---#\n",
    "#pooling == y 이면, NumOfPlex * NumOfGroup - 총 샘플 개수 = pooling 샘플 개수    \n",
    "if pooling == \"y\":\n",
    "    numof_pooling_sample = (NumberOfMultiplex*NumberOfGroup) - len(groups)\n",
    "    pool = list(range(1,numof_pooling_sample+1))\n",
    "    pool.reverse()\n",
    "    for i in range(0, len(random_samples)):\n",
    "        print(\"TMT group \",i+1,sep=\"\")\n",
    "        print(Meta[0])\n",
    "        for j in range(len(random_samples[i])):\n",
    "            print(dic_Meta[random_samples[i][j]])\n",
    "        for p in range(NumberOfMultiplex - len(random_samples[i])):\n",
    "            pool_num = pool.pop()\n",
    "            print(f\"QC\\tpooling\\tpool_{pool_num}\")\n",
    "        print('\\n')\n",
    "else:\n",
    "    for i in range(0, len(random_samples)):\n",
    "        print(\"TMT group \",i+1,sep=\"\")\n",
    "        print(Meta[0])\n",
    "        for j in range(len(random_samples[i])):\n",
    "            print( dic_Meta[random_samples[i][j]])\n",
    "        print('\\n')\n",
    "        "
   ]
  },
  {
   "cell_type": "code",
   "execution_count": null,
   "id": "9183db98",
   "metadata": {
    "scrolled": false
   },
   "outputs": [],
   "source": []
  },
  {
   "cell_type": "code",
   "execution_count": null,
   "id": "92d7f9d2",
   "metadata": {},
   "outputs": [],
   "source": []
  },
  {
   "cell_type": "code",
   "execution_count": null,
   "id": "9b8da974",
   "metadata": {},
   "outputs": [],
   "source": []
  },
  {
   "cell_type": "code",
   "execution_count": null,
   "id": "6f910b99",
   "metadata": {},
   "outputs": [],
   "source": []
  },
  {
   "cell_type": "markdown",
   "id": "8aab4629",
   "metadata": {},
   "source": [
    "# -- TMT calculation -- "
   ]
  },
  {
   "cell_type": "code",
   "execution_count": 6,
   "id": "371f8b92",
   "metadata": {},
   "outputs": [],
   "source": [
    "plex6_tages = [\"TMT10-126\",\"TMT10-127\",\"TMT10-128\",\"TMT10-129\",\"TMT10-130\",\"TMT10-131\"]\n",
    "plex10_tages = [\"TMT10-126\",\"TMT10-127N\",\"TMT10-127C\",\"TMT10-128N\",\"TMT10-128C\",\"TMT10-129N\",\"TMT10-129C\",\"TMT10-130N\",\"TMT10-130C\",\"TMT10-131\"]\n",
    "plex11_tages = [\"TMT10-126\",\"TMT10-127N\",\"TMT10-127C\",\"TMT10-128N\",\"TMT10-128C\",\"TMT10-129N\",\"TMT10-129C\",\"TMT10-130N\",\"TMT10-130C\",\"TMT10-131\",\"TMT10-131C\"]"
   ]
  },
  {
   "cell_type": "code",
   "execution_count": 7,
   "id": "6e846e9e",
   "metadata": {},
   "outputs": [
    {
     "name": "stdout",
     "output_type": "stream",
     "text": [
      "['TMT10-126', 'TMT10-127N', 'TMT10-127C', 'TMT10-128N', 'TMT10-128C', 'TMT10-129N', 'TMT10-129C', 'TMT10-130N', 'TMT10-130C', 'TMT10-131', 'TMT10-131C']\n"
     ]
    }
   ],
   "source": [
    "if NumberOfMultiplex == 6:\n",
    "    tags = plex6_tages\n",
    "elif NumberOfMultiplex == 10:\n",
    "    tags = plex10_tages\n",
    "elif NumberOfMultiplex == 11:\n",
    "    tags = plex11_tages\n",
    "    \n",
    "print(tags)"
   ]
  },
  {
   "cell_type": "code",
   "execution_count": null,
   "id": "304ebc8a",
   "metadata": {},
   "outputs": [],
   "source": []
  },
  {
   "cell_type": "code",
   "execution_count": null,
   "id": "69ad814e",
   "metadata": {},
   "outputs": [],
   "source": []
  },
  {
   "cell_type": "code",
   "execution_count": null,
   "id": "6b6437f4",
   "metadata": {},
   "outputs": [],
   "source": []
  },
  {
   "cell_type": "code",
   "execution_count": null,
   "id": "5319fd5b",
   "metadata": {},
   "outputs": [],
   "source": []
  },
  {
   "cell_type": "code",
   "execution_count": null,
   "id": "9590b0d8",
   "metadata": {},
   "outputs": [],
   "source": []
  },
  {
   "cell_type": "code",
   "execution_count": null,
   "id": "1a1bba4e",
   "metadata": {},
   "outputs": [],
   "source": []
  },
  {
   "cell_type": "code",
   "execution_count": null,
   "id": "827770f1",
   "metadata": {},
   "outputs": [],
   "source": []
  }
 ],
 "metadata": {
  "kernelspec": {
   "display_name": "Python 3",
   "language": "python",
   "name": "python3"
  },
  "language_info": {
   "codemirror_mode": {
    "name": "ipython",
    "version": 3
   },
   "file_extension": ".py",
   "mimetype": "text/x-python",
   "name": "python",
   "nbconvert_exporter": "python",
   "pygments_lexer": "ipython3",
   "version": "3.8.8"
  }
 },
 "nbformat": 4,
 "nbformat_minor": 5
}
